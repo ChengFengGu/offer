{
 "cells": [
  {
   "cell_type": "markdown",
   "id": "249ef1bb",
   "metadata": {},
   "source": [
    "判断链表中是否有循环\n",
    "==="
   ]
  },
  {
   "cell_type": "markdown",
   "id": "e82a6a2d",
   "metadata": {},
   "source": [
    "https://www.nowcoder.com/practice/650474f313294468a4ded3ce0f7898b9?tpId=188&rp=1&ru=%2Factivity%2Foj&qru=%2Fta%2Fjob-code-high-week%2Fquestion-ranking\n",
    "\n",
    "## 描述\n",
    "\n",
    "判断给定的链表中是否有环。如果有环则返回true，否则返回false。\n",
    "\n",
    "\n",
    "数据范围：链表长度 $0 \\le n \\le 100000≤n≤10000$，链表中任意节点的值满足 $|val| <= 100000∣val∣<=100000$\n",
    "\n",
    "要求：空间复杂度 $O(1)$，时间复杂度 $O(n)$\n",
    "\n",
    "```\n",
    "输入分为2部分，第一部分为链表，第二部分代表是否有环，然后回组成head头结点传入到函数里面。-1代表无环，其他的数字代表有环，这些参数解释仅仅是为了方便读者自测调试。实际在编码时读入的是链表的头节点。\n",
    "```\n",
    "\n",
    "## 示例1\n",
    "```\n",
    "输入：\n",
    "{3,2,0,-4},1\n",
    "\n",
    "返回值：\n",
    "true\n",
    "\n",
    "说明：\n",
    "第一部分{3,2,0,-4}代表一个链表，第二部分的1表示，-4到位置1，即-4->2存在一个链接，组成传入的head为一个带环的链表 ,返回true     \n",
    "```\n",
    "\n",
    "## 示例2\n",
    "```\n",
    "输入：\n",
    "{1},-1\n",
    "\n",
    "返回值：\n",
    "false\n",
    "\n",
    "说明：\n",
    "第一部分{1}代表一个链表，-1代表无环，组成传入head为一个无环的单链表，返回false     \n",
    "示例3\n",
    "输入：\n",
    "{-1,-7,7,-4,19,6,-9,-5,-2,-5},6\n",
    "\n",
    "返回值：\n",
    "true\n",
    "```"
   ]
  },
  {
   "cell_type": "code",
   "execution_count": 7,
   "id": "d9ef8077",
   "metadata": {},
   "outputs": [],
   "source": [
    "class ListNode:\n",
    "    def __init__(self, x):\n",
    "        self.val = x\n",
    "        self.next = None\n",
    "\n",
    "#\n",
    "# \n",
    "# @param head ListNode类 \n",
    "# @return bool布尔型\n",
    "#\n",
    "class Solution:\n",
    "    def hasCycle(self , head: ListNode) -> bool:\n",
    "        dic = set()\n",
    "        while head:\n",
    "            if head in dic:\n",
    "                return True\n",
    "            dic.add(head)\n",
    "            head = head.next\n",
    "            \n",
    "        return False"
   ]
  },
  {
   "cell_type": "code",
   "execution_count": null,
   "id": "6a2c2011",
   "metadata": {},
   "outputs": [],
   "source": []
  }
 ],
 "metadata": {
  "kernelspec": {
   "display_name": "Python 3",
   "language": "python",
   "name": "python3"
  },
  "language_info": {
   "codemirror_mode": {
    "name": "ipython",
    "version": 3
   },
   "file_extension": ".py",
   "mimetype": "text/x-python",
   "name": "python",
   "nbconvert_exporter": "python",
   "pygments_lexer": "ipython3",
   "version": "3.6.13"
  },
  "toc": {
   "base_numbering": 1,
   "nav_menu": {},
   "number_sections": true,
   "sideBar": true,
   "skip_h1_title": false,
   "title_cell": "Table of Contents",
   "title_sidebar": "Contents",
   "toc_cell": false,
   "toc_position": {},
   "toc_section_display": true,
   "toc_window_display": false
  },
  "varInspector": {
   "cols": {
    "lenName": 16,
    "lenType": 16,
    "lenVar": 40
   },
   "kernels_config": {
    "python": {
     "delete_cmd_postfix": "",
     "delete_cmd_prefix": "del ",
     "library": "var_list.py",
     "varRefreshCmd": "print(var_dic_list())"
    },
    "r": {
     "delete_cmd_postfix": ") ",
     "delete_cmd_prefix": "rm(",
     "library": "var_list.r",
     "varRefreshCmd": "cat(var_dic_list()) "
    }
   },
   "types_to_exclude": [
    "module",
    "function",
    "builtin_function_or_method",
    "instance",
    "_Feature"
   ],
   "window_display": false
  }
 },
 "nbformat": 4,
 "nbformat_minor": 5
}
