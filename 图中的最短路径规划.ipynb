{
 "cells": [
  {
   "cell_type": "code",
   "execution_count": 9,
   "id": "5cd01e52",
   "metadata": {},
   "outputs": [],
   "source": [
    "# from collections import defaultdict\n",
    "\n",
    "# class Solution:\n",
    "#     def findShortestPath(self , n , m , graph):\n",
    "#         nexts = defaultdict(list)\n",
    "#         for src, dst, w in graph:\n",
    "#             nexts[src].append((dst, w))\n",
    "#         dp = [None] * (n) + [0] # d[k]表示k到n的最短距离\n",
    "#         for i in range(n, 0, -1):\n",
    "#             if any(dp[j] is not None for j, _ in nexts[i]):\n",
    "#                 dp[i] = min(dp[j] + w for j, w in nexts[i] if dp[j] is not None)\n",
    "#         return dp[1] if dp[1] else -1\n",
    "\n",
    "class Solution:\n",
    "    \n",
    "    def step(self,node,value,m,n,graph,paths):\n",
    "        print(f\"paths:{paths}\")\n",
    "        for edge in graph:\n",
    "            if edge[0] == node and edge[1] == n:\n",
    "                value += edge[2]\n",
    "                print(f\"{node} 可以到达 {n}\")\n",
    "                return value\n",
    "            \n",
    "        if node in paths:\n",
    "            return -1\n",
    "        \n",
    "        paths.append(node)\n",
    "        \n",
    "        reached_nodes = []\n",
    "        for edge in graph:\n",
    "            if edge[0] == node:\n",
    "                reached_nodes.append(edge[1])\n",
    "        if len(reached_nodes)  == 0:\n",
    "            return -1\n",
    "        \n",
    "        value_results = []\n",
    "        for r_n in reached_nodes:\n",
    "            current_paths = paths\n",
    "            value_result = self.step(r_n, value, m, n, graph, current_paths)\n",
    "            if value_result != -1:\n",
    "                value_results.append(value_result)\n",
    "        if len(value_results) == 0:\n",
    "            return -1\n",
    "        return min(value,min(value_results))\n",
    "    \n",
    "    def findShortestPath(self , n , m , graph):\n",
    "        # write code here\n",
    "        \n",
    "        value = self.step(1,0,m,n,graph,[])\n",
    "        return value"
   ]
  },
  {
   "cell_type": "code",
   "execution_count": 10,
   "id": "a6af7d56",
   "metadata": {},
   "outputs": [
    {
     "name": "stdout",
     "output_type": "stream",
     "text": [
      "paths:[]\n",
      "paths:[1]\n",
      "paths:[1, 2]\n",
      "3 可以到达 5\n",
      "paths:[1, 2]\n",
      "4 可以到达 5\n"
     ]
    },
    {
     "data": {
      "text/plain": [
       "0"
      ]
     },
     "execution_count": 10,
     "metadata": {},
     "output_type": "execute_result"
    }
   ],
   "source": [
    "solution = Solution()\n",
    "solution.findShortestPath(5,5,[[1,2,2],[1,4,5],[2,3,3],[3,5,4],[4,5,5]])"
   ]
  }
 ],
 "metadata": {
  "kernelspec": {
   "display_name": "Python 3",
   "language": "python",
   "name": "python3"
  },
  "language_info": {
   "codemirror_mode": {
    "name": "ipython",
    "version": 3
   },
   "file_extension": ".py",
   "mimetype": "text/x-python",
   "name": "python",
   "nbconvert_exporter": "python",
   "pygments_lexer": "ipython3",
   "version": "3.6.13"
  },
  "toc": {
   "base_numbering": 1,
   "nav_menu": {},
   "number_sections": true,
   "sideBar": true,
   "skip_h1_title": false,
   "title_cell": "Table of Contents",
   "title_sidebar": "Contents",
   "toc_cell": false,
   "toc_position": {},
   "toc_section_display": true,
   "toc_window_display": false
  },
  "varInspector": {
   "cols": {
    "lenName": 16,
    "lenType": 16,
    "lenVar": 40
   },
   "kernels_config": {
    "python": {
     "delete_cmd_postfix": "",
     "delete_cmd_prefix": "del ",
     "library": "var_list.py",
     "varRefreshCmd": "print(var_dic_list())"
    },
    "r": {
     "delete_cmd_postfix": ") ",
     "delete_cmd_prefix": "rm(",
     "library": "var_list.r",
     "varRefreshCmd": "cat(var_dic_list()) "
    }
   },
   "types_to_exclude": [
    "module",
    "function",
    "builtin_function_or_method",
    "instance",
    "_Feature"
   ],
   "window_display": true
  }
 },
 "nbformat": 4,
 "nbformat_minor": 5
}
