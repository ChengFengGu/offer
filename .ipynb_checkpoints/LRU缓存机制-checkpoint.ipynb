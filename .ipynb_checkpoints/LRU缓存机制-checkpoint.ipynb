{
 "cells": [
  {
   "cell_type": "markdown",
   "id": "1f5794b8",
   "metadata": {},
   "source": [
    "\n",
    "运用你所掌握的数据结构，设计和实现一个  LRU (最近最少使用) 缓存机制 。\n",
    "===\n",
    "实现 LRUCache 类：\n",
    "\n",
    "LRUCache(int capacity) 以正整数作为容量 capacity 初始化 LRU 缓存\n",
    "int get(int key) 如果关键字 key 存在于缓存中，则返回关键字的值，否则返回 -1 。\n",
    "void put(int key, int value) 如果关键字已经存在，则变更其数据值；如果关键字不存在，则插入该组「关键字-值」。当缓存容量达到上限时，它应该在写入新数据之前删除最久未使用的数据值，从而为新的数据值留出空间。\n",
    " \n",
    "\n",
    "进阶：你是否可以在 O(1) 时间复杂度内完成这两种操作？\n",
    "\n",
    " \n",
    "\n",
    "示例：\n",
    "```\n",
    "输入\n",
    "[\"LRUCache\", \"put\", \"put\", \"get\", \"put\", \"get\", \"put\", \"get\", \"get\", \"get\"]\n",
    "[[2], [1, 1], [2, 2], [1], [3, 3], [2], [4, 4], [1], [3], [4]]\n",
    "输出\n",
    "[null, null, null, 1, null, -1, null, -1, 3, 4]\n",
    "\n",
    "解释\n",
    "LRUCache lRUCache = new LRUCache(2);  \n",
    "lRUCache.put(1, 1); // 缓存是 {1=1}  \n",
    "lRUCache.put(2, 2); // 缓存是 {1=1, 2=2}  \n",
    "lRUCache.get(1);    // 返回 1  \n",
    "lRUCache.put(3, 3); // 该操作会使得关键字 2 作废，缓存是 {1=1, 3=3}  \n",
    "lRUCache.get(2);    // 返回 -1 (未找到)  \n",
    "lRUCache.put(4, 4); // 该操作会使得关键字 1 作废，缓存是 {4=4, 3=3}  \n",
    "lRUCache.get(1);    // 返回 -1 (未找到)  \n",
    "lRUCache.get(3);    // 返回 3  \n",
    "lRUCache.get(4);    // 返回 4  \n",
    "\n",
    "```\n",
    "```  \n",
    "提示：  \n",
    "\n",
    "1 <= capacity <= 3000  \n",
    "0 <= key <= 10000  \n",
    "0 <= value <= 105  \n",
    "最多调用 2 * 105 次 get 和 put  \n",
    "```\n",
    "来源：力扣（LeetCode）  \n",
    "链接：https://leetcode-cn.com/problems/lru-cache  \n",
    "著作权归领扣网络所有。商业转载请联系官方授权，非商业转载请注明出处。  "
   ]
  },
  {
   "cell_type": "code",
   "execution_count": 2,
   "id": "f398e327",
   "metadata": {
    "ExecuteTime": {
     "end_time": "2021-10-16T07:22:45.626294Z",
     "start_time": "2021-10-16T07:22:45.620157Z"
    }
   },
   "outputs": [],
   "source": [
    "class LRUCache(object):\n",
    "    def __init__(self, capacity):\n",
    "        \"\"\"\n",
    "        :type capacity: int\n",
    "        \"\"\"\n",
    "        super().__init__()\n",
    "        self.capcity = capacity\n",
    "        self.stack  = []\n",
    "\n",
    "    def get(self, key):\n",
    "        \"\"\"\n",
    "        :type key: int\n",
    "        :rtype: int\n",
    "        \"\"\"\n",
    "        \n",
    "        \n",
    "        \n",
    "\n",
    "    def put(self, key, value):\n",
    "        \"\"\"\n",
    "        :type key: int\n",
    "        :type value: int\n",
    "        :rtype: None\n",
    "        \"\"\"\n",
    "\n",
    "\n",
    "# Your LRUCache object will be instantiated and called as such:\n",
    "# obj = LRUCache(capacity)\n",
    "# param_1 = obj.get(key)\n",
    "# obj.put(key,value)"
   ]
  },
  {
   "cell_type": "code",
   "execution_count": 3,
   "id": "c5d6e991",
   "metadata": {
    "ExecuteTime": {
     "end_time": "2021-10-16T07:26:12.621363Z",
     "start_time": "2021-10-16T07:26:12.613824Z"
    }
   },
   "outputs": [],
   "source": [
    "input_ops = [\"LRUCache\",\"put\",\"put\",\"get\",\"put\",\"get\",\"put\",\"get\",\"get\",\"get\"]\n",
    "input_data = [[2],[1,1],[2,2],[1],[3,3],[2],[4,4],[1],[3],[4]]"
   ]
  },
  {
   "cell_type": "markdown",
   "id": "41cbcd6f",
   "metadata": {},
   "source": [
    "# 牛客版本\n",
    "\n",
    "描述\n",
    "=== \n",
    "```\n",
    "设计LRU(最近最少使用)缓存结构，该结构在构造时确定大小，假设大小为 k ，并有如下两个功能\n",
    "1. set(key, value)：将记录(key, value)插入该结构\n",
    "2. get(key)：返回key对应的value值\n",
    "```\n",
    "\n",
    "提示:\n",
    "===\n",
    "```\n",
    "1.某个key的set或get操作一旦发生，认为这个key的记录成了最常使用的，然后都会刷新缓存。\n",
    "2.当缓存的大小超过k时，移除最不经常使用的记录。\n",
    "3.输入一个二维数组与k，二维数组每一维有2个或者3个数字，第1个数字为opt，第2，3个数字为key，value\n",
    "若opt=1，接下来两个整数key, value，表示set(key, value)\n",
    "若opt=2，接下来一个整数key，表示get(key)，若key未出现过或已被移除，则返回-1\n",
    "对于每个opt=2，输出一个答案\n",
    "4.为了方便区分缓存里key与value，下面说明的缓存里key用\"\"号包裹\n",
    "```\n",
    "\n",
    "要求：set和get操作复杂度均为 O(1)O(1)"
   ]
  },
  {
   "cell_type": "markdown",
   "id": "2816cf2f",
   "metadata": {},
   "source": [
    "示例1\n",
    "==\n",
    "```\n",
    "输入：\n",
    "[[1,1,1],[1,2,2],[1,3,2],[2,1],[1,4,4],[2,2]],3\n",
    "\n",
    "\n",
    "返回值：\n",
    "[1,-1]\n",
    "\n",
    "\n",
    "说明：\n",
    "[1,1,1]，第一个1表示opt=1，要set(1,1)，即将(1,1)插入缓存，缓存是{\"1\"=1}\n",
    "[1,2,2]，第一个1表示opt=1，要set(2,2)，即将(2,2)插入缓存，缓存是{\"1\"=1,\"2\"=2}\n",
    "[1,3,2]，第一个1表示opt=1，要set(3,2)，即将(3,2)插入缓存，缓存是{\"1\"=1,\"2\"=2,\"3\"=2}\n",
    "[2,1]，第一个2表示opt=2，要get(1)，返回是[1]，因为get(1)操作，缓存更新，缓存是{\"2\"=2,\"3\"=2,\"1\"=1}\n",
    "[1,4,4]，第一个1表示opt=1，要set(4,4)，即将(4,4)插入缓存，但是缓存已经达到最大容量3，移除最不经常使用的{\"2\"=2}，插入{\"4\"=4}，缓存是{\"3\"=2,\"1\"=1,\"4\"=4}\n",
    "[2,2]，第一个2表示opt=2，要get(2)，查找不到，返回是[1,-1]     \n",
    "```"
   ]
  },
  {
   "cell_type": "code",
   "execution_count": 2,
   "id": "f10ea242",
   "metadata": {
    "ExecuteTime": {
     "end_time": "2021-10-16T07:45:00.215154Z",
     "start_time": "2021-10-16T07:45:00.209324Z"
    }
   },
   "outputs": [
    {
     "data": {
      "text/plain": [
       "[2, 3]"
      ]
     },
     "execution_count": 2,
     "metadata": {},
     "output_type": "execute_result"
    }
   ],
   "source": [
    "capicity = 3\n",
    "stack = [1,2,3]\n",
    "stack.pop(0)\n",
    "stack"
   ]
  },
  {
   "cell_type": "code",
   "execution_count": 3,
   "id": "a52a71b7",
   "metadata": {
    "ExecuteTime": {
     "end_time": "2021-10-16T07:41:57.159683Z",
     "start_time": "2021-10-16T07:41:57.152329Z"
    }
   },
   "outputs": [],
   "source": [
    "class Solution(object):\n",
    "    def LRU(self,operators,k):\n",
    "        stack = []\n",
    "        kv_pair = {}\n",
    "        ans = []\n",
    "        for op in operators:\n",
    "            if op[0] == 1: # 进行set(key,value)操作\n",
    "                if len(stack)>=k:\n",
    "                    del kv_pair[stack.pop(0)] # 如果栈溢出，则去掉栈的最上面的元素\n",
    "                if op[1] in kv_pair:\n",
    "                    stack.pop(stack.index(op[1])) # 找到该值所在的索引\n",
    "                stack.append(op[1]) # 将该值再次输入到栈头\n",
    "                \n",
    "                kv_pair[op[1]] = op[2]\n",
    "            elif(op[0]) == 2: # 进行get(key)操作\n",
    "                if op[1] not in kv_pair:\n",
    "                    ans.append(-1)\n",
    "                else:\n",
    "                    ans.append(kv_pair[op[1]]) # 将该值加入到kv_pair\n",
    "                    stack.append(stack.pop(stack.index(op[1])))\n",
    "        return ans\n",
    "    \n",
    "                \n",
    "                \n",
    "                \n",
    "                    \n",
    "            "
   ]
  }
 ],
 "metadata": {
  "kernelspec": {
   "display_name": "Python 3",
   "language": "python",
   "name": "python3"
  },
  "language_info": {
   "codemirror_mode": {
    "name": "ipython",
    "version": 3
   },
   "file_extension": ".py",
   "mimetype": "text/x-python",
   "name": "python",
   "nbconvert_exporter": "python",
   "pygments_lexer": "ipython3",
   "version": "3.6.13"
  },
  "toc": {
   "base_numbering": 1,
   "nav_menu": {},
   "number_sections": true,
   "sideBar": true,
   "skip_h1_title": false,
   "title_cell": "Table of Contents",
   "title_sidebar": "Contents",
   "toc_cell": false,
   "toc_position": {},
   "toc_section_display": true,
   "toc_window_display": true
  },
  "varInspector": {
   "cols": {
    "lenName": 16,
    "lenType": 16,
    "lenVar": 40
   },
   "kernels_config": {
    "python": {
     "delete_cmd_postfix": "",
     "delete_cmd_prefix": "del ",
     "library": "var_list.py",
     "varRefreshCmd": "print(var_dic_list())"
    },
    "r": {
     "delete_cmd_postfix": ") ",
     "delete_cmd_prefix": "rm(",
     "library": "var_list.r",
     "varRefreshCmd": "cat(var_dic_list()) "
    }
   },
   "position": {
    "height": "329.4px",
    "left": "1628.4px",
    "right": "20px",
    "top": "120px",
    "width": "350px"
   },
   "types_to_exclude": [
    "module",
    "function",
    "builtin_function_or_method",
    "instance",
    "_Feature"
   ],
   "window_display": true
  }
 },
 "nbformat": 4,
 "nbformat_minor": 5
}
