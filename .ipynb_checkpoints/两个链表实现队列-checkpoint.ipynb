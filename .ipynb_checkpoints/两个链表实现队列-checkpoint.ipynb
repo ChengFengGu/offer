{
 "cells": [
  {
   "cell_type": "markdown",
   "id": "1cae7081",
   "metadata": {},
   "source": [
    "# 两个栈实现队列"
   ]
  },
  {
   "cell_type": "markdown",
   "id": "93c24e9d",
   "metadata": {},
   "source": [
    "## 描述\n",
    "\n",
    "用两个栈来实现一个队列，完成 n 次在队列尾部插入整数(push)和n次在队列头部删除整数(pop)的功能。 队列中的元素为int类型。保证操作合法，即保证pop操作时队列内已有元素。\n",
    "\n",
    "```\n",
    "数据范围： n\\le1000n≤1000\n",
    "要求：空间复杂度 O(n)O(n) ，时间复杂度 O(1)O(1)\n",
    "```\n",
    "\n",
    "\n",
    "### 示例1\n",
    "\n",
    "```\n",
    "输入：\n",
    "[\"PSH1\",\"PSH2\",\"POP\",\"POP\"]\n",
    "\n",
    "返回值：\n",
    "1,2\n",
    "\n",
    "说明：\n",
    "\"PSH1\":代表将1插入队列尾部\n",
    "\"PSH2\":代表将2插入队列尾部\n",
    "\"POP“:代表删除一个元素，先进先出=>返回1\n",
    "\"POP“:代表删除一个元素，先进先出=>返回2  \n",
    "\n",
    "```"
   ]
  },
  {
   "cell_type": "code",
   "execution_count": 6,
   "id": "1238ca44",
   "metadata": {},
   "outputs": [],
   "source": [
    "# -*- coding:utf-8 -*-\n",
    "class Solution:\n",
    "    def __init__(self):\n",
    "        self.stack1 = []\n",
    "        self.stack2 = []\n",
    "\n",
    "    def push(self, node):\n",
    "        # write code here\n",
    "        self.stack1.append(node)\n",
    "\n",
    "    def pop(self):\n",
    "        # return xx\n",
    "        if len(self.stack2) != 0:\n",
    "            return self.stack2.pop()\n",
    "        else:\n",
    "            if len(self.stack1) == 0:\n",
    "                return\n",
    "            while len(self.stack1) != 0:\n",
    "                self.stack2.append(self.stack1.pop())\n",
    "            return self.stack2.pop()"
   ]
  }
 ],
 "metadata": {
  "kernelspec": {
   "display_name": "Python 3",
   "language": "python",
   "name": "python3"
  },
  "language_info": {
   "codemirror_mode": {
    "name": "ipython",
    "version": 3
   },
   "file_extension": ".py",
   "mimetype": "text/x-python",
   "name": "python",
   "nbconvert_exporter": "python",
   "pygments_lexer": "ipython3",
   "version": "3.6.13"
  },
  "toc": {
   "base_numbering": 1,
   "nav_menu": {},
   "number_sections": true,
   "sideBar": true,
   "skip_h1_title": false,
   "title_cell": "Table of Contents",
   "title_sidebar": "Contents",
   "toc_cell": false,
   "toc_position": {},
   "toc_section_display": true,
   "toc_window_display": true
  },
  "varInspector": {
   "cols": {
    "lenName": 16,
    "lenType": 16,
    "lenVar": 40
   },
   "kernels_config": {
    "python": {
     "delete_cmd_postfix": "",
     "delete_cmd_prefix": "del ",
     "library": "var_list.py",
     "varRefreshCmd": "print(var_dic_list())"
    },
    "r": {
     "delete_cmd_postfix": ") ",
     "delete_cmd_prefix": "rm(",
     "library": "var_list.r",
     "varRefreshCmd": "cat(var_dic_list()) "
    }
   },
   "types_to_exclude": [
    "module",
    "function",
    "builtin_function_or_method",
    "instance",
    "_Feature"
   ],
   "window_display": false
  }
 },
 "nbformat": 4,
 "nbformat_minor": 5
}
