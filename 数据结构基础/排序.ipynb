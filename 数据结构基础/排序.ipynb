{
 "cells": [
  {
   "cell_type": "markdown",
   "metadata": {},
   "source": [
    "![](https://garden-lu-oss.oss-cn-beijing.aliyuncs.com/images20211025220716.png)"
   ]
  },
  {
   "cell_type": "code",
   "execution_count": 5,
   "metadata": {},
   "outputs": [
    {
     "name": "stdout",
     "output_type": "stream",
     "text": [
      "[1, 3, 6, 27]\n"
     ]
    }
   ],
   "source": [
    "class SelectSort:\n",
    "    def sort(self,data:list):\n",
    "        for i in range(len(data)-1):\n",
    "            index = data.index(min(data[i+1:]))\n",
    "            temp =  data[i+1]\n",
    "            data[i+1] = data[index]\n",
    "            data[index] = temp\n",
    "        print(data)\n",
    "if __name__ == \"__main__\":\n",
    "    s =SelectSort()\n",
    "    s.sort([1,27,6,3])\n"
   ]
  },
  {
   "cell_type": "markdown",
   "metadata": {},
   "source": [
    "选择排序：复杂度: $\\frac{1}{2}n^2 + \\frac{n}{2} = O(n^2)$ "
   ]
  },
  {
   "cell_type": "code",
   "execution_count": null,
   "metadata": {},
   "outputs": [],
   "source": [
    "class InsertSort:\n",
    "    def swap(self,arr:list,i:int,j:int):\n",
    "        temp = arr[i]\n",
    "        arr[i] = arr[j]\n",
    "        arr[j] = temp\n",
    "    def sort(self,data:list):\n",
    "        for i in range(0,len(data)):\n",
    "            for j in range(i,0,-1):\n",
    "                if data[i] > data[j]:\n",
    "                    self.swap(data,i,j)\n",
    "        "
   ]
  }
 ],
 "metadata": {
  "interpreter": {
   "hash": "eaa528c983ad8bcfad6b5a24cb494e7f3623191aa6771dd9589226cb5f6983f4"
  },
  "kernelspec": {
   "display_name": "Python 3.6.13 64-bit ('offer': conda)",
   "name": "python3"
  },
  "language_info": {
   "codemirror_mode": {
    "name": "ipython",
    "version": 3
   },
   "file_extension": ".py",
   "mimetype": "text/x-python",
   "name": "python",
   "nbconvert_exporter": "python",
   "pygments_lexer": "ipython3",
   "version": "3.6.13"
  },
  "orig_nbformat": 4
 },
 "nbformat": 4,
 "nbformat_minor": 2
}
