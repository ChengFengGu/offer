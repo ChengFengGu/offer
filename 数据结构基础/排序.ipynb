{
 "cells": [
  {
   "cell_type": "markdown",
   "metadata": {},
   "source": [
    "![](https://garden-lu-oss.oss-cn-beijing.aliyuncs.com/images20211025220716.png)"
   ]
  },
  {
   "cell_type": "code",
   "execution_count": null,
   "metadata": {},
   "outputs": [],
   "source": [
    "class SelectSort:\n",
    "    def sort(data:list,target):\n",
    "        for i in range(len(data)):\n",
    "            index = data.index(min(data[i+1:])) + i + 1\n",
    "            temp =  data[i]\n",
    "            data[i] = data[index]\n",
    "            "
   ]
  }
 ],
 "metadata": {
  "interpreter": {
   "hash": "eaa528c983ad8bcfad6b5a24cb494e7f3623191aa6771dd9589226cb5f6983f4"
  },
  "kernelspec": {
   "display_name": "Python 3.6.13 64-bit ('offer': conda)",
   "name": "python3"
  },
  "language_info": {
   "name": "python",
   "version": "3.6.13"
  },
  "orig_nbformat": 4
 },
 "nbformat": 4,
 "nbformat_minor": 2
}
