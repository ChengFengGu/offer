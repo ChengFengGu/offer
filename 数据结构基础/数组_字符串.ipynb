{
 "cells": [
  {
   "cell_type": "markdown",
   "metadata": {},
   "source": [
    "# 1. 数组\n",
    "\n",
    "## 1.1. 数组的优点\n",
    "\n",
    "1. 构建简单\n",
    "2. O（1）根据下标返回\n",
    "   \n",
    "## 1.2. 数组的缺点\n",
    "\n",
    "1. 必须连续空间\n",
    "2. O(n)查询\n",
    "3. 添加和删除也是O(n)"
   ]
  },
  {
   "cell_type": "markdown",
   "metadata": {},
   "source": [
    "## 1. 242 有效的字母异位词\n",
    "![](https://garden-lu-oss.oss-cn-beijing.aliyuncs.com/images20211028212741.png)"
   ]
  },
  {
   "cell_type": "code",
   "execution_count": 5,
   "metadata": {},
   "outputs": [
    {
     "data": {
      "text/plain": [
       "False"
      ]
     },
     "execution_count": 5,
     "metadata": {},
     "output_type": "execute_result"
    }
   ],
   "source": [
    "class Solution:\n",
    "    def main(self,s:str,t:str):\n",
    "        dp = [0 for _ in range(26)]\n",
    "        for char in s:\n",
    "            dp[ord(char)-ord('a')] +=1\n",
    "        for char in t:\n",
    "            dp[ord(char)-ord('a')] -=1\n",
    "        if any(dp) == 0:\n",
    "            return True\n",
    "        else:\n",
    "            return False\n",
    "s = Solution()\n",
    "result = s.main(\"abd\",\"abc\")\n",
    "result"
   ]
  },
  {
   "cell_type": "markdown",
   "metadata": {},
   "source": [
    "# 2. 链表\n",
    "\n",
    "## 2.1. 优点\n",
    "链表的出现是为了缓解数组的一大缺陷，即需要开辟出一段连续的空间\n",
    "\n",
    "1. O(1)时间内删除或添加元素\n",
    "2. 灵活分配内存空间\n",
    "\n",
    "## 2.2. 缺点\n",
    "1. 不能通过下标，快速查询\n",
    "\n",
    "## 2.3 解题方法\n",
    "\n",
    "1. 快慢指针（有时候需要加当前指针）\n",
    "2. 构建一个虚假链表头\n",
    "\n",
    "\n",
    "# 3. 双链表\n",
    "\n",
    "每个节点都包含两个引用字段\n"
   ]
  },
  {
   "cell_type": "code",
   "execution_count": null,
   "metadata": {},
   "outputs": [],
   "source": []
  }
 ],
 "metadata": {
  "interpreter": {
   "hash": "eaa528c983ad8bcfad6b5a24cb494e7f3623191aa6771dd9589226cb5f6983f4"
  },
  "kernelspec": {
   "display_name": "Python 3.6.13 64-bit ('offer': conda)",
   "name": "python3"
  },
  "language_info": {
   "codemirror_mode": {
    "name": "ipython",
    "version": 3
   },
   "file_extension": ".py",
   "mimetype": "text/x-python",
   "name": "python",
   "nbconvert_exporter": "python",
   "pygments_lexer": "ipython3",
   "version": "3.7.11"
  },
  "orig_nbformat": 4
 },
 "nbformat": 4,
 "nbformat_minor": 2
}
