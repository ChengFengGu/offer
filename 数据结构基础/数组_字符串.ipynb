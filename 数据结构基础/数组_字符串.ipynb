{
 "cells": [
  {
   "cell_type": "markdown",
   "metadata": {},
   "source": [
    "# 1. 数组\n",
    "\n",
    "## 1.1. 数组的优点\n",
    "\n",
    "1. 构建简单\n",
    "2. O（1）根据下标返回\n",
    "   \n",
    "## 1.2. 数组的缺点\n",
    "\n",
    "1. 必须连续空间\n",
    "2. O(n)查询\n",
    "3. 添加和删除也是O(n)"
   ]
  },
  {
   "cell_type": "markdown",
   "metadata": {},
   "source": [
    "## 1. 242 有效的字母异位词\n",
    "![](https://garden-lu-oss.oss-cn-beijing.aliyuncs.com/images20211028212741.png)"
   ]
  },
  {
   "cell_type": "code",
   "execution_count": 5,
   "metadata": {},
   "outputs": [
    {
     "data": {
      "text/plain": [
       "False"
      ]
     },
     "execution_count": 5,
     "metadata": {},
     "output_type": "execute_result"
    }
   ],
   "source": [
    "class Solution:\n",
    "    def main(self,s:str,t:str):\n",
    "        dp = [0 for _ in range(26)]\n",
    "        for char in s:\n",
    "            dp[ord(char)-ord('a')] +=1\n",
    "        for char in t:\n",
    "            dp[ord(char)-ord('a')] -=1\n",
    "        if any(dp) == 0:\n",
    "            return True\n",
    "        else:\n",
    "            return False\n",
    "s = Solution()\n",
    "result = s.main(\"abd\",\"abc\")\n",
    "result"
   ]
  },
  {
   "cell_type": "markdown",
   "metadata": {},
   "source": [
    "# 2. 链表\n",
    "\n",
    "## 2.1. 优点\n",
    "链表的出现是为了缓解数组的一大缺陷，即需要开辟出一段连续的空间\n",
    "\n",
    "1. O(1)时间内删除或添加元素\n",
    "2. 灵活分配内存空间\n",
    "\n",
    "## 2.2. 缺点\n",
    "1. 不能通过下标，快速查询\n",
    "\n",
    "## 2.3 解题方法\n",
    "\n",
    "1. 快慢指针（有时候需要加当前指针）\n",
    "2. 构建一个虚假链表头\n",
    "3. 画出节点之间的相互关系和修改的方法\n",
    "\n",
    "\n",
    "# 3. 双链表\n",
    "\n",
    "每个节点都包含两个引用字段\n"
   ]
  },
  {
   "cell_type": "markdown",
   "metadata": {},
   "source": [
    "## 力扣25\n",
    "\n",
    "给定一个链表，每k个节点一组进行翻转，请返回翻转之后的链表\n",
    "* \n",
    "k 是一个正整数，它的值小于或等于链表的长度。\n",
    "\n",
    "如果节点总数不是 k 的整数倍，那么请将最后剩余的节点保持原有顺序。\n",
    "\n",
    "- 进阶\n",
    "你可以设计一个只使用常数额外空间的算法来解决此问题吗？\n",
    "你不能只是单纯的改变节点内部的值，而是需要实际进行节点交换。"
   ]
  },
  {
   "cell_type": "code",
   "execution_count": null,
   "metadata": {},
   "outputs": [],
   "source": []
  }
 ],
 "metadata": {
  "interpreter": {
   "hash": "eaa528c983ad8bcfad6b5a24cb494e7f3623191aa6771dd9589226cb5f6983f4"
  },
  "kernelspec": {
   "display_name": "Python 3.6.13 64-bit ('offer': conda)",
   "name": "python3"
  },
  "language_info": {
   "codemirror_mode": {
    "name": "ipython",
    "version": 3
   },
   "file_extension": ".py",
   "mimetype": "text/x-python",
   "name": "python",
   "nbconvert_exporter": "python",
   "pygments_lexer": "ipython3",
   "version": "3.7.11"
  },
  "orig_nbformat": 4
 },
 "nbformat": 4,
 "nbformat_minor": 2
}
