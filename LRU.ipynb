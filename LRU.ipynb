{
 "cells": [
  {
   "cell_type": "code",
   "execution_count": null,
   "id": "73142c9c",
   "metadata": {},
   "outputs": [],
   "source": [
    "class Solution:\n",
    "    def LRU(self, operators, k):\n",
    "        # write code here\n",
    "        stack = []\n",
    "        kv_pair = {}\n",
    "        ans = []\n",
    "        for op in operators:\n",
    "            if (op[0] == 1):\n",
    "                if (len(stack) >= k):\n",
    "                    del kv_pair[stack.pop(0)]\n",
    "                if (op[1] in kv_pair):\n",
    "                    stack.pop(stack.index(op[1]))\n",
    "                stack.append(op[1])\n",
    "                kv_pair[op[1]] = op[2]\n",
    "            elif (op[0] == 2):\n",
    "                if (op[1] not in kv_pair):\n",
    "                    ans.append(-1)\n",
    "                else:\n",
    "                    ans.append(kv_pair[op[1]])\n",
    "                    stack.append(stack.pop(stack.index(op[1])))\n",
    "        return ans"
   ]
  }
 ],
 "metadata": {
  "kernelspec": {
   "display_name": "Python 3",
   "language": "python",
   "name": "python3"
  },
  "language_info": {
   "codemirror_mode": {
    "name": "ipython",
    "version": 3
   },
   "file_extension": ".py",
   "mimetype": "text/x-python",
   "name": "python",
   "nbconvert_exporter": "python",
   "pygments_lexer": "ipython3",
   "version": "3.8.8"
  },
  "toc": {
   "base_numbering": 1,
   "nav_menu": {},
   "number_sections": true,
   "sideBar": true,
   "skip_h1_title": false,
   "title_cell": "Table of Contents",
   "title_sidebar": "Contents",
   "toc_cell": false,
   "toc_position": {},
   "toc_section_display": true,
   "toc_window_display": false
  }
 },
 "nbformat": 4,
 "nbformat_minor": 5
}
