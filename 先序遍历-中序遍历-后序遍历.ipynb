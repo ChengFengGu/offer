{
 "cells": [
  {
   "cell_type": "markdown",
   "id": "c003840e",
   "metadata": {},
   "source": [
    "https://www.nowcoder.com/practice/a9fec6c46a684ad5a3abd4e365a9d362?tpId=188&rp=1&ru=%2Factivity%2Foj&qru=%2Fta%2Fjob-code-high-week%2Fquestion-ranking"
   ]
  },
  {
   "cell_type": "code",
   "execution_count": null,
   "id": "1840779a",
   "metadata": {},
   "outputs": [],
   "source": [
    "# class TreeNode:\n",
    "#     def __init__(self, x):\n",
    "#         self.val = x\n",
    "#         self.left = None\n",
    "#         self.right = None\n",
    "\n",
    "#\n",
    "# \n",
    "# @param root TreeNode类 the root of binary tree\n",
    "# @return int整型二维数组\n",
    "#\n",
    "class Solution:\n",
    "    def preOrder(self,node:TreeNode,container:list):\n",
    "        if node == None:\n",
    "            return container\n",
    "        container.append(node.val)\n",
    "        if not node.left == None:\n",
    "            container = self.preOrder(node.left, container)\n",
    "        if not node.right == None:\n",
    "            container = self.preOrder(node.right, container)\n",
    "        return container\n",
    "    \n",
    "    def midOrder(self,node:TreeNode,container:list):\n",
    "        if node == None:\n",
    "            return container\n",
    "        if not node.left == None:\n",
    "            container = self.midOrder(node.left, container)\n",
    "        container.append(node.val)\n",
    "        if not node.right == None:\n",
    "            container = self.midOrder(node.right, container)\n",
    "        return container\n",
    "    \n",
    "    def afterOrder(self,node:TreeNode,container:list):\n",
    "        if node == None:\n",
    "            return container\n",
    "        if not node.left == None:\n",
    "            container = self.afterOrder(node.left, container)\n",
    "        \n",
    "        if not node.right == None:\n",
    "            container = self.afterOrder(node.right, container)\n",
    "            \n",
    "        container.append(node.val)\n",
    "        return container\n",
    "    \n",
    "    def threeOrders(self , root ):\n",
    "        # write code here\n",
    "        container = []\n",
    "        pre = self.preOrder(root, container)\n",
    "        container = []\n",
    "        middle = self.midOrder(root, container)\n",
    "        container = []\n",
    "        after = self.afterOrder(root, container)\n",
    "        return [pre,middle,after]\n",
    "        pass"
   ]
  }
 ],
 "metadata": {
  "kernelspec": {
   "display_name": "Python 3",
   "language": "python",
   "name": "python3"
  },
  "language_info": {
   "codemirror_mode": {
    "name": "ipython",
    "version": 3
   },
   "file_extension": ".py",
   "mimetype": "text/x-python",
   "name": "python",
   "nbconvert_exporter": "python",
   "pygments_lexer": "ipython3",
   "version": "3.6.13"
  },
  "toc": {
   "base_numbering": 1,
   "nav_menu": {},
   "number_sections": true,
   "sideBar": true,
   "skip_h1_title": false,
   "title_cell": "Table of Contents",
   "title_sidebar": "Contents",
   "toc_cell": false,
   "toc_position": {},
   "toc_section_display": true,
   "toc_window_display": false
  },
  "varInspector": {
   "cols": {
    "lenName": 16,
    "lenType": 16,
    "lenVar": 40
   },
   "kernels_config": {
    "python": {
     "delete_cmd_postfix": "",
     "delete_cmd_prefix": "del ",
     "library": "var_list.py",
     "varRefreshCmd": "print(var_dic_list())"
    },
    "r": {
     "delete_cmd_postfix": ") ",
     "delete_cmd_prefix": "rm(",
     "library": "var_list.r",
     "varRefreshCmd": "cat(var_dic_list()) "
    }
   },
   "types_to_exclude": [
    "module",
    "function",
    "builtin_function_or_method",
    "instance",
    "_Feature"
   ],
   "window_display": false
  }
 },
 "nbformat": 4,
 "nbformat_minor": 5
}
