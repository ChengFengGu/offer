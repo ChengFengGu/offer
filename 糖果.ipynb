{
 "cells": [
  {
   "cell_type": "code",
   "execution_count": 1,
   "id": "16e3c43b",
   "metadata": {},
   "outputs": [
    {
     "data": {
      "text/plain": [
       "True"
      ]
     },
     "execution_count": 1,
     "metadata": {},
     "output_type": "execute_result"
    }
   ],
   "source": [
    "a = [1,2,3]\n",
    "\n",
    "any(a) == 1\n"
   ]
  },
  {
   "cell_type": "code",
   "execution_count": null,
   "id": "51ebf917",
   "metadata": {},
   "outputs": [],
   "source": [
    "import sys\n",
    "\n",
    "sys.stdout"
   ]
  },
  {
   "cell_type": "code",
   "execution_count": 8,
   "id": "719c3712",
   "metadata": {},
   "outputs": [
    {
     "name": "stdout",
     "output_type": "stream",
     "text": [
      "3\n",
      "2 3\n",
      "1 2\n",
      "bool: False\n",
      "1 None None "
     ]
    }
   ],
   "source": [
    "\n",
    "\n",
    "if __name__ == \"__main__\":\n",
    "    \n",
    "    # 1. 先计算每种盒子里面有多少个糖果\n",
    "    # 2. 再计算总的糖果数量\n",
    "    \n",
    "    \n",
    "    n = int(input())\n",
    "    \n",
    "    \n",
    "    cand_num_every_cat = [None for i in range(n)]\n",
    "    cand_num_every_cat.append(None)\n",
    "    cand_num_every_cat[0] = -1\n",
    "    cand_num_every_cat[1] = 1\n",
    "    \n",
    "    a = input()\n",
    "    b = input()\n",
    "    a_input = list(a.split())\n",
    "    b_input = list(a.split())\n",
    "    \n",
    "#     print(a_input)\n",
    "#     print(b_input)\n",
    "    \n",
    "    a = [None,1]\n",
    "    for item in a_input:\n",
    "        a.append(int(item))\n",
    "        \n",
    "    b = [None,1]\n",
    "    for item in b_input:\n",
    "        b.append(int(item))\n",
    "  \n",
    "    iter = 0\n",
    "    print(f\"bool: {any(cand_num_every_cat) == None}\")\n",
    "    while any(cand_num_every_cat) == None:\n",
    "        for i in range(2,n+1):\n",
    "            if cand_num_every_cat[i]!=None:\n",
    "                for j in range(1,n+1):\n",
    "                    if b[j] == i:\n",
    "                        cand_num_every_cat[j] = a[j]*cand_num_every_cat[i]\n",
    "        iter += 1\n",
    "        print(f\"iter:{iter}\")\n",
    "    for i in range(1,n+1):\n",
    "        print(cand_num_every_cat[i],end=' ')"
   ]
  }
 ],
 "metadata": {
  "kernelspec": {
   "display_name": "Python 3",
   "language": "python",
   "name": "python3"
  },
  "language_info": {
   "codemirror_mode": {
    "name": "ipython",
    "version": 3
   },
   "file_extension": ".py",
   "mimetype": "text/x-python",
   "name": "python",
   "nbconvert_exporter": "python",
   "pygments_lexer": "ipython3",
   "version": "3.6.13"
  },
  "toc": {
   "base_numbering": 1,
   "nav_menu": {},
   "number_sections": true,
   "sideBar": true,
   "skip_h1_title": false,
   "title_cell": "Table of Contents",
   "title_sidebar": "Contents",
   "toc_cell": false,
   "toc_position": {},
   "toc_section_display": true,
   "toc_window_display": false
  },
  "varInspector": {
   "cols": {
    "lenName": 16,
    "lenType": 16,
    "lenVar": 40
   },
   "kernels_config": {
    "python": {
     "delete_cmd_postfix": "",
     "delete_cmd_prefix": "del ",
     "library": "var_list.py",
     "varRefreshCmd": "print(var_dic_list())"
    },
    "r": {
     "delete_cmd_postfix": ") ",
     "delete_cmd_prefix": "rm(",
     "library": "var_list.r",
     "varRefreshCmd": "cat(var_dic_list()) "
    }
   },
   "types_to_exclude": [
    "module",
    "function",
    "builtin_function_or_method",
    "instance",
    "_Feature"
   ],
   "window_display": false
  }
 },
 "nbformat": 4,
 "nbformat_minor": 5
}
