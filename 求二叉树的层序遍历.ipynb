{
 "cells": [
  {
   "cell_type": "markdown",
   "id": "bff9b027",
   "metadata": {},
   "source": [
    "https://www.nowcoder.com/practice/04a5560e43e24e9db4595865dc9c63a3?tpId=188&rp=1&ru=%2Factivity%2Foj&qru=%2Fta%2Fjob-code-high-week%2Fquestion-ranking"
   ]
  },
  {
   "cell_type": "code",
   "execution_count": null,
   "id": "7b45d568",
   "metadata": {},
   "outputs": [],
   "source": [
    "# class TreeNode:\n",
    "#     def __init__(self, x):\n",
    "#         self.val = x\n",
    "#         self.left = None\n",
    "#         self.right = None\n",
    "\n",
    "#\n",
    "# \n",
    "# @param root TreeNode类 \n",
    "# @return int整型二维数组\n",
    "#\n",
    "class Solution:\n",
    "    \n",
    "    \n",
    "    def search(self,node:TreeNode,layer:int,container:list):\n",
    "        if node == None:\n",
    "            return container\n",
    "        container.append((layer,node.val))\n",
    "        layer += 1\n",
    "        if node.left != None:\n",
    "            node_left = node.left\n",
    "#             container.append((layer,node_left.val))\n",
    "            container = (self.search(node_left,layer,container))\n",
    "        if node.right != None:\n",
    "            node_right = node.right\n",
    "#             container.append((layer,node_right.val))\n",
    "            container = (self.search(node_right,layer,container))\n",
    "        \n",
    "        return container\n",
    "        \n",
    "    \n",
    "    \n",
    "    def levelOrder(self , root ):\n",
    "        # write code here\n",
    "        self.container = self.search(root,0,[])\n",
    "        result = {}\n",
    "        layers = []\n",
    "        for layer,value in self.container:\n",
    "            layers.append(layer)\n",
    "            if layer not in result:\n",
    "                result[layer]  = []\n",
    "            result[layer].append(value)\n",
    "        layers = list(set(layers))\n",
    "        ans = []\n",
    "        for layer in layers:\n",
    "            ans.append(result[layer])\n",
    "        return ans\n",
    "  "
   ]
  }
 ],
 "metadata": {
  "kernelspec": {
   "display_name": "Python 3",
   "language": "python",
   "name": "python3"
  },
  "language_info": {
   "codemirror_mode": {
    "name": "ipython",
    "version": 3
   },
   "file_extension": ".py",
   "mimetype": "text/x-python",
   "name": "python",
   "nbconvert_exporter": "python",
   "pygments_lexer": "ipython3",
   "version": "3.6.13"
  },
  "toc": {
   "base_numbering": 1,
   "nav_menu": {},
   "number_sections": true,
   "sideBar": true,
   "skip_h1_title": false,
   "title_cell": "Table of Contents",
   "title_sidebar": "Contents",
   "toc_cell": false,
   "toc_position": {},
   "toc_section_display": true,
   "toc_window_display": false
  },
  "varInspector": {
   "cols": {
    "lenName": 16,
    "lenType": 16,
    "lenVar": 40
   },
   "kernels_config": {
    "python": {
     "delete_cmd_postfix": "",
     "delete_cmd_prefix": "del ",
     "library": "var_list.py",
     "varRefreshCmd": "print(var_dic_list())"
    },
    "r": {
     "delete_cmd_postfix": ") ",
     "delete_cmd_prefix": "rm(",
     "library": "var_list.r",
     "varRefreshCmd": "cat(var_dic_list()) "
    }
   },
   "types_to_exclude": [
    "module",
    "function",
    "builtin_function_or_method",
    "instance",
    "_Feature"
   ],
   "window_display": false
  }
 },
 "nbformat": 4,
 "nbformat_minor": 5
}
